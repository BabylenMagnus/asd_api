{
 "cells": [
  {
   "cell_type": "code",
   "execution_count": 1,
   "id": "initial_id",
   "metadata": {
    "collapsed": true,
    "ExecuteTime": {
     "end_time": "2023-10-18T09:52:11.611194709Z",
     "start_time": "2023-10-18T09:52:05.470976380Z"
    }
   },
   "outputs": [
    {
     "name": "stdout",
     "output_type": "stream",
     "text": [
      "10-18 12:52:11 Model para number = 1.02\n"
     ]
    }
   ],
   "source": [
    "from app.api import *\n",
    "import subprocess\n",
    "import python_speech_features"
   ]
  },
  {
   "cell_type": "code",
   "execution_count": 2,
   "outputs": [],
   "source": [
    "filename = \"/home/jjjj/Downloads/Telegram Desktop/video_2023-10-17_09-46-14 (2).mp4\"\n",
    "min_track = 10\n",
    "num_failed_det = 15\n",
    "min_face_size = 20"
   ],
   "metadata": {
    "collapsed": false,
    "ExecuteTime": {
     "end_time": "2023-10-18T09:52:11.611531536Z",
     "start_time": "2023-10-18T09:52:11.585641490Z"
    }
   },
   "id": "de33a4e66407fa81"
  },
  {
   "cell_type": "code",
   "execution_count": 3,
   "outputs": [
    {
     "name": "stderr",
     "output_type": "stream",
     "text": [
      "Detected: 0 | Progress: 100%|██████████| 576/576 [00:00<00:00, 1368.53frames/s]\n"
     ]
    }
   ],
   "source": [
    "scene = scene_detect(filename)\n",
    "faces, fps = inference_video(filename)\n"
   ],
   "metadata": {
    "collapsed": false,
    "ExecuteTime": {
     "end_time": "2023-10-18T09:53:09.998049684Z",
     "start_time": "2023-10-18T09:52:11.589691965Z"
    }
   },
   "id": "147bdf63971d0325"
  },
  {
   "cell_type": "code",
   "execution_count": 4,
   "outputs": [],
   "source": [
    "all_tracks = []\n",
    "for shot in scene:\n",
    "    if shot[1].frame_num - shot[0].frame_num >= min_track:  # Discard the shot frames less than min_track frames\n",
    "        all_tracks.extend(\n",
    "            track_shot(\n",
    "                faces[shot[0].frame_num:shot[1].frame_num],\n",
    "                num_failed_det, min_track, min_face_size\n",
    "            )\n",
    "        )"
   ],
   "metadata": {
    "collapsed": false,
    "ExecuteTime": {
     "end_time": "2023-10-18T09:53:10.041420103Z",
     "start_time": "2023-10-18T09:53:10.003510424Z"
    }
   },
   "id": "cdc241c04a848619"
  },
  {
   "cell_type": "code",
   "execution_count": 5,
   "outputs": [],
   "source": [
    "def load_audio(file: str, s: float, e: float, sr: int):\n",
    "\n",
    "    # This launches a subprocess to decode audio while down-mixing\n",
    "    # and resampling as necessary.  Requires the ffmpeg CLI in PATH.\n",
    "    # fmt: off\n",
    "    cmd = [\n",
    "        \"ffmpeg\",\n",
    "        \"-nostdin\",\n",
    "        \"-threads\", \"0\",\n",
    "        \"-i\", file,\n",
    "        \"-f\", \"s16le\",\n",
    "        \"-ac\", \"1\",\n",
    "        \"-acodec\", \"pcm_s16le\",\n",
    "        \"-ar\", str(sr),\n",
    "        \"-vn\",\n",
    "        \"-ss\", str(round(s, 3)),\n",
    "        \"-to\", str(round(e, 3)),\n",
    "        \"-\"\n",
    "    ]\n",
    "    # fmt: on\n",
    "    try:\n",
    "        out = subprocess.run(cmd, capture_output=True, check=True).stdout\n",
    "    except subprocess.CalledProcessError as e:\n",
    "        raise RuntimeError(f\"Failed to load audio: {e.stderr.decode()}\") from e\n",
    "\n",
    "    return np.frombuffer(out, np.int16).flatten().astype(np.float32) / 32768.0"
   ],
   "metadata": {
    "collapsed": false,
    "ExecuteTime": {
     "end_time": "2023-10-18T09:53:10.050274854Z",
     "start_time": "2023-10-18T09:53:10.046705222Z"
    }
   },
   "id": "ad55b44c6e11e567"
  },
  {
   "cell_type": "code",
   "execution_count": 6,
   "outputs": [],
   "source": [
    "track = all_tracks[0]"
   ],
   "metadata": {
    "collapsed": false,
    "ExecuteTime": {
     "end_time": "2023-10-18T09:53:10.057682747Z",
     "start_time": "2023-10-18T09:53:10.052083541Z"
    }
   },
   "id": "35c20cde1de3e34"
  },
  {
   "cell_type": "code",
   "execution_count": 7,
   "outputs": [
    {
     "data": {
      "text/plain": "{'frame': array([ 0,  1,  2,  3,  4,  5,  6,  7,  8,  9, 10, 11, 12, 13, 14, 15, 16,\n        17, 18, 19, 20, 21, 22, 23, 24, 25, 26, 27, 28, 29, 30, 31, 32, 33,\n        34, 35, 36, 37, 38, 39, 40, 41, 42, 43, 44, 45, 46, 47, 48]),\n 'bbox': array([[163.48434448, 211.29476929, 266.38827515, 331.43270874],\n        [176.96244812, 205.71656799, 277.39749146, 324.09585571],\n        [180.88363647, 205.54849243, 281.63470459, 321.5836792 ],\n        [182.00500488, 206.63066101, 281.31344604, 320.02853394],\n        [183.07113647, 211.02459717, 282.25946045, 326.88204956],\n        [180.05834961, 221.88616943, 277.13726807, 337.33145142],\n        [175.06637573, 234.88972473, 269.41574097, 349.5475769 ],\n        [174.87684631, 242.21629333, 268.92330933, 356.12353516],\n        [176.14678955, 249.0785675 , 268.88220215, 363.39135742],\n        [171.86953735, 254.82148743, 267.03143311, 366.7180481 ],\n        [170.84684753, 257.86080933, 266.84957886, 368.71578979],\n        [172.28907776, 259.17971802, 273.05282593, 370.59921265],\n        [180.83409119, 258.64590454, 277.08227539, 371.68762207],\n        [181.43994141, 257.72006226, 279.2824707 , 373.13674927],\n        [194.06169128, 257.75296021, 284.3916626 , 368.69775391],\n        [211.84854126, 249.93188477, 297.70202637, 365.90939331],\n        [221.35874939, 244.90611267, 303.57443237, 359.54733276],\n        [209.7197113 , 247.58348083, 300.22479248, 362.89471436],\n        [200.43241882, 253.23034668, 297.71328735, 365.95663452],\n        [198.98860168, 255.05961609, 298.62243652, 364.52716064],\n        [189.22315979, 257.85549927, 291.19909668, 362.44311523],\n        [183.09571838, 258.64187622, 285.75256348, 362.6137085 ],\n        [183.75839233, 257.43331909, 283.68408203, 360.17529297],\n        [192.04600525, 257.15713501, 285.33010864, 361.8298645 ],\n        [202.83686829, 254.27166748, 293.7565918 , 361.78085327],\n        [223.20889282, 243.16296387, 308.21417236, 349.90078735],\n        [206.8653717 , 241.83605957, 298.43304443, 362.73330688],\n        [200.23464966, 253.14001465, 286.16046143, 363.62835693],\n        [186.04594421, 261.04711914, 281.87243652, 360.35525513],\n        [186.19447327, 259.85507202, 283.89013672, 363.02944946],\n        [189.150177  , 260.62689209, 290.06277466, 368.85321045],\n        [190.5942688 , 277.37838745, 288.9984436 , 382.03201294],\n        [189.05873108, 287.87030029, 287.29077148, 392.7772522 ],\n        [197.86471558, 312.96853638, 290.91677856, 411.76022339],\n        [197.4833919 , 312.82015555, 286.63979667, 409.40129743],\n        [197.10206822, 312.67177473, 282.36281477, 407.04237148],\n        [196.72074454, 312.5233939 , 278.08583287, 404.68344552],\n        [196.33942086, 312.37501308, 273.80885097, 402.32451957],\n        [195.95809719, 312.22663225, 269.53186907, 399.96559361],\n        [195.57677351, 312.07825143, 265.25488717, 397.60666765],\n        [195.19544983, 311.92987061, 260.97790527, 395.2477417 ],\n        [200.62342834, 327.49545288, 262.53320312, 413.20315552],\n        [198.95722961, 334.60165405, 262.74484253, 417.0223999 ],\n        [201.11694336, 341.88848877, 263.47546387, 423.70129395],\n        [211.77108765, 345.78543091, 265.35906982, 425.61297607],\n        [209.70808411, 343.77484131, 263.27648926, 423.66543579],\n        [203.54704285, 335.61889648, 260.42306519, 415.00634766],\n        [196.784729  , 328.82192993, 259.30596924, 407.36685181],\n        [189.26268005, 320.05007935, 255.71850586, 398.10375977]])}"
     },
     "execution_count": 7,
     "metadata": {},
     "output_type": "execute_result"
    }
   ],
   "source": [
    "track"
   ],
   "metadata": {
    "collapsed": false,
    "ExecuteTime": {
     "end_time": "2023-10-18T09:53:10.133437238Z",
     "start_time": "2023-10-18T09:53:10.059934270Z"
    }
   },
   "id": "9a161d2c8caece9f"
  },
  {
   "cell_type": "code",
   "execution_count": 8,
   "outputs": [],
   "source": [
    "start, end = track[\"frame\"][0], track[\"frame\"][-1]"
   ],
   "metadata": {
    "collapsed": false,
    "ExecuteTime": {
     "end_time": "2023-10-18T09:53:10.134067246Z",
     "start_time": "2023-10-18T09:53:10.113617607Z"
    }
   },
   "id": "9912e8f685c9226a"
  },
  {
   "cell_type": "code",
   "execution_count": 9,
   "outputs": [],
   "source": [
    "sample_rate = 16000"
   ],
   "metadata": {
    "collapsed": false,
    "ExecuteTime": {
     "end_time": "2023-10-18T09:53:10.134487038Z",
     "start_time": "2023-10-18T09:53:10.113843353Z"
    }
   },
   "id": "b0a85ffae5edc33a"
  },
  {
   "cell_type": "code",
   "execution_count": 10,
   "outputs": [],
   "source": [
    "audio = load_audio(filename, start / fps, end / fps, sample_rate)\n",
    "audioFeature = python_speech_features.mfcc(audio, sample_rate, numcep=13, winlen=0.025, winstep=0.010)\n"
   ],
   "metadata": {
    "collapsed": false,
    "ExecuteTime": {
     "end_time": "2023-10-18T09:53:10.271899955Z",
     "start_time": "2023-10-18T09:53:10.113974477Z"
    }
   },
   "id": "fed5ff7f7227848a"
  },
  {
   "cell_type": "code",
   "execution_count": 11,
   "outputs": [
    {
     "data": {
      "text/plain": "array([[-3.60436534e+01,  0.00000000e+00,  0.00000000e+00, ...,\n         9.64028692e-15,  0.00000000e+00,  0.00000000e+00],\n       [-3.60436534e+01,  0.00000000e+00,  0.00000000e+00, ...,\n         9.64028692e-15,  0.00000000e+00,  0.00000000e+00],\n       [-3.60436534e+01,  0.00000000e+00,  0.00000000e+00, ...,\n         9.64028692e-15,  0.00000000e+00,  0.00000000e+00],\n       ...,\n       [ 4.95320604e-02, -1.64071056e+00, -3.50602840e+00, ...,\n        -5.17540217e+00, -9.11730647e+00,  2.97705278e+00],\n       [-2.10130152e-02,  2.95154933e-01, -1.86630310e+00, ...,\n        -5.67386433e+00, -4.51968343e+00,  3.17187692e+00],\n       [-5.63171961e-01,  1.86943760e+00, -1.18358153e+00, ...,\n        -5.92517366e+00,  3.00121979e+00,  5.79589609e+00]])"
     },
     "execution_count": 11,
     "metadata": {},
     "output_type": "execute_result"
    }
   ],
   "source": [
    "audioFeature"
   ],
   "metadata": {
    "collapsed": false,
    "ExecuteTime": {
     "end_time": "2023-10-18T09:53:10.318741614Z",
     "start_time": "2023-10-18T09:53:10.275678581Z"
    }
   },
   "id": "6bd740ca2da96b8"
  },
  {
   "cell_type": "code",
   "execution_count": 12,
   "outputs": [
    {
     "data": {
      "text/plain": "25"
     },
     "execution_count": 12,
     "metadata": {},
     "output_type": "execute_result"
    }
   ],
   "source": [
    "len(all_tracks)"
   ],
   "metadata": {
    "collapsed": false,
    "ExecuteTime": {
     "end_time": "2023-10-18T09:54:41.200651619Z",
     "start_time": "2023-10-18T09:54:41.192077913Z"
    }
   },
   "id": "ccc371436390e2a5"
  },
  {
   "cell_type": "code",
   "execution_count": 16,
   "outputs": [
    {
     "data": {
      "text/plain": "dict_keys(['frame', 'bbox'])"
     },
     "execution_count": 16,
     "metadata": {},
     "output_type": "execute_result"
    }
   ],
   "source": [
    "track.keys()"
   ],
   "metadata": {
    "collapsed": false,
    "ExecuteTime": {
     "end_time": "2023-10-18T09:56:54.605558117Z",
     "start_time": "2023-10-18T09:56:54.577642265Z"
    }
   },
   "id": "fd36732171abb059"
  },
  {
   "cell_type": "code",
   "execution_count": null,
   "outputs": [],
   "source": [
    "track[\"faces\"] = []"
   ],
   "metadata": {
    "collapsed": false
   },
   "id": "6f085315ca56461d"
  },
  {
   "cell_type": "code",
   "execution_count": 18,
   "outputs": [],
   "source": [
    "cap = cv2.VideoCapture(filename)\n",
    "\n",
    "for track_id in range(len(all_tracks)):\n",
    "    \n",
    "    start, end = all_tracks[track_id][\"frame\"][0], all_tracks[track_id][\"frame\"][-1]\n",
    "    all_tracks[track_id][\"faces\"] = []\n",
    "    \n",
    "    for i in range(start, end + 1):\n",
    "        cap.set(1, i)\n",
    "        ret, frame = cap.read()\n",
    "        face = cv2.cvtColor(frame, cv2.COLOR_BGR2GRAY)\n",
    "        face = cv2.resize(face, (224, 224))\n",
    "        face = face[int(112 - (112 / 2)):int(112 + (112 / 2)), int(112 - (112 / 2)):int(112 + (112 / 2))]\n",
    "        all_tracks[track_id][\"faces\"].append(face)\n"
   ],
   "metadata": {
    "collapsed": false,
    "ExecuteTime": {
     "end_time": "2023-10-18T10:00:32.644413951Z",
     "start_time": "2023-10-18T10:00:18.357433900Z"
    }
   },
   "id": "388cccf48379cc85"
  },
  {
   "cell_type": "code",
   "execution_count": 21,
   "outputs": [
    {
     "data": {
      "text/plain": "25"
     },
     "execution_count": 21,
     "metadata": {},
     "output_type": "execute_result"
    }
   ],
   "source": [
    "len(all_tracks)"
   ],
   "metadata": {
    "collapsed": false,
    "ExecuteTime": {
     "end_time": "2023-10-18T10:00:42.363879612Z",
     "start_time": "2023-10-18T10:00:42.353746176Z"
    }
   },
   "id": "e28b2135ac562265"
  },
  {
   "cell_type": "code",
   "execution_count": 23,
   "outputs": [
    {
     "data": {
      "text/plain": "dict_keys(['frame', 'bbox', 'faces'])"
     },
     "execution_count": 23,
     "metadata": {},
     "output_type": "execute_result"
    }
   ],
   "source": [
    "all_tracks[0].keys()"
   ],
   "metadata": {
    "collapsed": false,
    "ExecuteTime": {
     "end_time": "2023-10-18T10:00:53.572330442Z",
     "start_time": "2023-10-18T10:00:53.566765397Z"
    }
   },
   "id": "3241d94eaa94e320"
  },
  {
   "cell_type": "code",
   "execution_count": null,
   "outputs": [],
   "source": [],
   "metadata": {
    "collapsed": false,
    "ExecuteTime": {
     "start_time": "2023-10-18T05:24:21.219864209Z"
    }
   },
   "id": "a1aa54042f6cd2e9"
  },
  {
   "cell_type": "code",
   "execution_count": null,
   "outputs": [],
   "source": [],
   "metadata": {
    "collapsed": false,
    "ExecuteTime": {
     "start_time": "2023-10-18T05:24:21.245489358Z"
    }
   },
   "id": "408a2bf96127fc"
  }
 ],
 "metadata": {
  "kernelspec": {
   "display_name": "Python 3",
   "language": "python",
   "name": "python3"
  },
  "language_info": {
   "codemirror_mode": {
    "name": "ipython",
    "version": 2
   },
   "file_extension": ".py",
   "mimetype": "text/x-python",
   "name": "python",
   "nbconvert_exporter": "python",
   "pygments_lexer": "ipython2",
   "version": "2.7.6"
  }
 },
 "nbformat": 4,
 "nbformat_minor": 5
}
